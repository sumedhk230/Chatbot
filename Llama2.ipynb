{
  "cells": [
    {
      "cell_type": "markdown",
      "metadata": {
        "id": "FIf3Q7QaK4gn"
      },
      "source": [
        "## **Install replicate**"
      ]
    },
    {
      "cell_type": "code",
      "execution_count": 1,
      "metadata": {
        "id": "cGwfwAsLJsSR"
      },
      "outputs": [
        {
          "name": "stdout",
          "output_type": "stream",
          "text": [
            "Defaulting to user installation because normal site-packages is not writeable\n",
            "Collecting replicate\n",
            "  Downloading replicate-0.25.2-py3-none-any.whl.metadata (24 kB)\n",
            "Requirement already satisfied: httpx<1,>=0.21.0 in c:\\users\\lenovo\\appdata\\roaming\\python\\python312\\site-packages (from replicate) (0.26.0)\n",
            "Requirement already satisfied: packaging in c:\\program files\\python312\\lib\\site-packages (from replicate) (23.2)\n",
            "Requirement already satisfied: pydantic>1.10.7 in c:\\users\\lenovo\\appdata\\roaming\\python\\python312\\site-packages (from replicate) (2.5.3)\n",
            "Requirement already satisfied: typing-extensions>=4.5.0 in c:\\program files\\python312\\lib\\site-packages (from replicate) (4.8.0)\n",
            "Requirement already satisfied: anyio in c:\\users\\lenovo\\appdata\\roaming\\python\\python312\\site-packages (from httpx<1,>=0.21.0->replicate) (4.2.0)\n",
            "Requirement already satisfied: certifi in c:\\program files\\python312\\lib\\site-packages (from httpx<1,>=0.21.0->replicate) (2023.11.17)\n",
            "Requirement already satisfied: httpcore==1.* in c:\\users\\lenovo\\appdata\\roaming\\python\\python312\\site-packages (from httpx<1,>=0.21.0->replicate) (1.0.2)\n",
            "Requirement already satisfied: idna in c:\\program files\\python312\\lib\\site-packages (from httpx<1,>=0.21.0->replicate) (3.6)\n",
            "Requirement already satisfied: sniffio in c:\\users\\lenovo\\appdata\\roaming\\python\\python312\\site-packages (from httpx<1,>=0.21.0->replicate) (1.3.0)\n",
            "Requirement already satisfied: h11<0.15,>=0.13 in c:\\users\\lenovo\\appdata\\roaming\\python\\python312\\site-packages (from httpcore==1.*->httpx<1,>=0.21.0->replicate) (0.14.0)\n",
            "Requirement already satisfied: annotated-types>=0.4.0 in c:\\users\\lenovo\\appdata\\roaming\\python\\python312\\site-packages (from pydantic>1.10.7->replicate) (0.6.0)\n",
            "Requirement already satisfied: pydantic-core==2.14.6 in c:\\users\\lenovo\\appdata\\roaming\\python\\python312\\site-packages (from pydantic>1.10.7->replicate) (2.14.6)\n",
            "Downloading replicate-0.25.2-py3-none-any.whl (39 kB)\n",
            "Installing collected packages: replicate\n",
            "Successfully installed replicate-0.25.2\n"
          ]
        },
        {
          "name": "stderr",
          "output_type": "stream",
          "text": [
            "\n",
            "[notice] A new release of pip is available: 23.3.2 -> 24.0\n",
            "[notice] To update, run: python.exe -m pip install --upgrade pip\n"
          ]
        }
      ],
      "source": [
        "! pip install replicate"
      ]
    },
    {
      "cell_type": "markdown",
      "metadata": {
        "id": "HqBzUTg9NMdh"
      },
      "source": [
        "## **Set Replicate API token**"
      ]
    },
    {
      "cell_type": "code",
      "execution_count": 2,
      "metadata": {
        "id": "_ga2m-1FNP7o"
      },
      "outputs": [],
      "source": [
        "import os\n",
        "\n",
        "os.environ[\"REPLICATE_API_TOKEN\"] = \"r8_045N3NtgpuP763IAgNUsInc9C4ozRog1VFr3I\""
      ]
    },
    {
      "cell_type": "markdown",
      "metadata": {
        "id": "901Hxea9K7ME"
      },
      "source": [
        "## **Run the Llama 2 model**"
      ]
    },
    {
      "cell_type": "code",
      "execution_count": 3,
      "metadata": {
        "id": "7Eyzd9DQRvh6"
      },
      "outputs": [],
      "source": [
        "import replicate\n",
        "\n",
        "# Prompts\n",
        "pre_prompt = \"You are a helpful assistant. You do not respond as 'User' or pretend to be 'User'. You only respond once as 'Assistant'.\"\n",
        "prompt_input = \"What is Streamlit?\"\n",
        "\n",
        "# Generate LLM response\n",
        "output = replicate.run('a16z-infra/llama13b-v2-chat:df7690f1994d94e96ad9d568eac121aecf50684a0b0963b25a41cc40061269e5', # LLM model\n",
        "                        input={\"prompt\": f\"{pre_prompt} {prompt_input} Assistant: \", # Prompts\n",
        "                        \"temperature\":0.1, \"top_p\":0.9, \"max_length\":128, \"repetition_penalty\":1})  # Model parameters"
      ]
    },
    {
      "cell_type": "markdown",
      "metadata": {
        "id": "YrSrbZ97OU3W"
      },
      "source": [
        "## **Displaying the LLM generated response**"
      ]
    },
    {
      "cell_type": "code",
      "execution_count": 4,
      "metadata": {
        "colab": {
          "base_uri": "https://localhost:8080/"
        },
        "id": "ZDH_FJJCKHRo",
        "outputId": "cbf47b42-9225-4368-8f91-a64606575b38"
      },
      "outputs": [
        {
          "data": {
            "text/plain": [
              "<generator object Prediction.output_iterator at 0x00000234C28A9E00>"
            ]
          },
          "execution_count": 4,
          "metadata": {},
          "output_type": "execute_result"
        }
      ],
      "source": [
        "output"
      ]
    },
    {
      "cell_type": "code",
      "execution_count": 5,
      "metadata": {
        "colab": {
          "base_uri": "https://localhost:8080/"
        },
        "id": "rwNZxpzFNnnM",
        "outputId": "959f878b-757a-4341-ee4b-30318be5871b"
      },
      "outputs": [
        {
          "name": "stdout",
          "output_type": "stream",
          "text": [
            " Hello! I'm here to help answer your questions. Streamlit is an open-source Python library that allows you to create and deploy web applications from your local machine to the cloud with just a few lines of code. It provides a simple and intuitive way to build web applications without the need for extensive knowledge of web development. With Streamlit, you can create interactive visualizations, gather user input, and perform machine learning tasks, all within a web application. It's a powerful tool for data scientists, engineers, and anyone else who wants to build web applications quickly and easily. Is there anything else you'\n"
          ]
        }
      ],
      "source": [
        "full_response = \"\"\n",
        "\n",
        "for item in output:\n",
        "  full_response += item\n",
        "\n",
        "print(full_response)"
      ]
    }
  ],
  "metadata": {
    "colab": {
      "provenance": []
    },
    "kernelspec": {
      "display_name": "Python 3",
      "name": "python3"
    },
    "language_info": {
      "codemirror_mode": {
        "name": "ipython",
        "version": 3
      },
      "file_extension": ".py",
      "mimetype": "text/x-python",
      "name": "python",
      "nbconvert_exporter": "python",
      "pygments_lexer": "ipython3",
      "version": "3.12.0"
    }
  },
  "nbformat": 4,
  "nbformat_minor": 0
}
